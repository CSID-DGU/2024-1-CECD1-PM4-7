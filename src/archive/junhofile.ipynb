{
 "cells": [
  {
   "cell_type": "code",
   "execution_count": null,
   "id": "0",
   "metadata": {},
   "outputs": [],
   "source": [
    "# 기존 데이터를 분석하는 코드\n",
    "import pandas as pd\n",
    "import os\n",
    "import matplotlib.pyplot as plt\n",
    "from matplotlib import font_manager, rc\n",
    "\n",
    "# 한글 폰트 설정\n",
    "font_path = \"C:/Windows/Fonts/malgun.ttf\"  # 폰트 경로를 시스템에 맞게 설정\n",
    "font_name = font_manager.FontProperties(fname=font_path).get_name()\n",
    "rc('font', family=font_name)\n",
    "\n",
    "# 패키지 내의 파일 경로 가져오기\n",
    "test_csv_path = os.path.join(os.getcwd(), '..', '..', 'public', 'AI_bokji_result_final.csv')\n",
    "try:\n",
    "    df = pd.read_csv(test_csv_path, encoding='euc-kr', index_col=0)\n",
    "except UnicodeError:\n",
    "    df = pd.read_csv(test_csv_path, encoding='utf-8', index_col=0)\n",
    "\n",
    "print(\"File loaded.\")\n",
    "result_csv_path = os.path.join(os.path.dirname(test_csv_path), 'AI_bokji_result_answers.csv')"
   ]
  },
  {
   "cell_type": "markdown",
   "id": "1",
   "metadata": {},
   "source": [
    "### 기존 csv파일 전처리 및 답변 분리 ###"
   ]
  },
  {
   "cell_type": "code",
   "execution_count": null,
   "id": "2",
   "metadata": {},
   "outputs": [],
   "source": [
    "# STT 전처리 - 앞뒤 공백 및 줄바꿈 문자 제거\n",
    "df['STT_TRNF_RSLT_CN'] = df['STT_TRNF_RSLT_CN'].str.strip()\n",
    "\n",
    "# 1. 'VOC_SDRC_DCD' 값이 'RX'인 데이터만 추출\n",
    "df_rx = df[df['VOC_SDRC_DCD'] == 'RX'].copy()\n",
    "\n",
    "# 2. 'STT_TRNF_RSLT_CN' 값 분석 (공백 및 줄바꿈 문자 제거)\n",
    "df_rx['STT_TRNF_RSLT_CN'] = df_rx['STT_TRNF_RSLT_CN'].str.strip()\n",
    "\n",
    "# 3. 중복된 데이터의 수 계산\n",
    "stt_counts = df_rx['STT_TRNF_RSLT_CN'].value_counts().reset_index()\n",
    "stt_counts.columns = ['STT_TRNF_RSLT_CN', 'count']\n",
    "\n",
    "# 4. 개수가 1개인 데이터는 '기타' 항목으로 분류\n",
    "def categorize_stt(row):\n",
    "    if row['STT_TRNF_RSLT_CN'].startswith('눌러야') or row['STT_TRNF_RSLT_CN'].startswith('눌라야')\\\n",
    "            or row['STT_TRNF_RSLT_CN'].startswith('놀라야') or '녹음' in row['STT_TRNF_RSLT_CN']\\\n",
    "            or '번호' in row['STT_TRNF_RSLT_CN'] or '남기' in row['STT_TRNF_RSLT_CN']:\n",
    "                return '기타'\n",
    "    else:\n",
    "        return row['STT_TRNF_RSLT_CN']\n",
    "\n",
    "stt_counts['STT_TRNF_RSLT_CN'] = stt_counts.apply(categorize_stt, axis=1)\n",
    "\n",
    "# 최종 결과를 데이터프레임으로 다시 정리\n",
    "final_counts = stt_counts.groupby('STT_TRNF_RSLT_CN')['count'].sum().reset_index()\n",
    "\n",
    "# Count 기준 내림차순 정렬\n",
    "final_counts = final_counts.sort_values(by='count', ascending=False)\n",
    "\n",
    "# 시각화\n",
    "plt.figure(figsize=(10, 8))\n",
    "plt.barh(final_counts['STT_TRNF_RSLT_CN'], final_counts['count'], color='skyblue')\n",
    "plt.xlabel('Count')\n",
    "plt.ylabel('STT_TRNF_RSLT_CN')\n",
    "plt.title('STT_TRNF_RSLT_CN Count')\n",
    "plt.gca().invert_yaxis()  # y축을 뒤집어 큰 값이 위로 오도록 설정\n",
    "\n",
    "# 이미지 파일로 저장\n",
    "image_path = os.path.join(os.path.dirname(test_csv_path), 'result.png')\n",
    "plt.savefig(image_path, bbox_inches='tight')\n",
    "plt.close()\n",
    "\n",
    "# 최종 결과를 CSV 파일로 저장\n",
    "final_counts.to_csv(result_csv_path, index=False, encoding='euc-kr')\n",
    "print(\"파일이 성공적으로 저장되었습니다.\", image_path)\n"
   ]
  },
  {
   "cell_type": "markdown",
   "id": "3",
   "metadata": {},
   "source": [
    "### 분리한 답변에서 유의미한 데이터 추출"
   ]
  },
  {
   "cell_type": "code",
   "execution_count": null,
   "id": "4",
   "metadata": {},
   "outputs": [],
   "source": [
    "final_df = pd.read_csv(result_csv_path, encoding='euc-kr')\n",
    "\n",
    "# STT_TRNF_RSLT_CN 데이터의 길이가 5 이하인 데이터 제거\n",
    "filtered_df = final_df[final_df['STT_TRNF_RSLT_CN'].str.len() > 5]\n",
    "\n",
    "# 새로운 파일로 저장\n",
    "filtered_csv_path = os.path.join(os.path.dirname(result_csv_path), 'AI_bokji_result_final_filtered.csv')\n",
    "filtered_df.to_csv(filtered_csv_path, index=False, encoding='euc-kr')\n",
    "\n",
    "# 데이터 'ㄱ'부터 시작하여 오름차순으로 정렬\n",
    "filtered_df = filtered_df.sort_values(by='STT_TRNF_RSLT_CN')\n",
    "\n",
    "print(\"파일이 성공적으로 저장되었습니다.\", filtered_csv_path)"
   ]
  },
  {
   "cell_type": "markdown",
   "id": "5",
   "metadata": {},
   "source": [
    "### 이전답변을 반영하여 답변 데이터만을 저장 ###"
   ]
  },
  {
   "cell_type": "code",
   "execution_count": null,
   "id": "6",
   "metadata": {},
   "outputs": [],
   "source": [
    "answers = pd.DataFrame(columns=[\"Question\", \"Answer\"])\n",
    "for i in range(1, len(df)):\n",
    "    current = df[i]\n",
    "    before = df[i-1]\n",
    "    if current[\"VOC_SDRC_DCD\"] == 'RX'\\\n",
    "        and before[\"VOC_SDRC_DCD\"] == 'TX'\\\n",
    "        and len(current['STT_TRNF_RSLT_CN']) >= 5:\n",
    "        answer = pd.DataFrame({\"Question\": before[\"STT_TRNF_RSLT_CN\"].replace(\" \", \"\"),\n",
    "                               \"Answer\": current[\"STT_TRNF_RSLT_CN\"]})\n",
    "        answers = pd.concat([answers, answer], ignore_index=True)\n",
    "\n",
    "answers.to_csv(result_csv_path, index=False, encoding='euc-kr')\n",
    "\n"
   ]
  },
  {
   "cell_type": "code",
   "execution_count": null,
   "id": "7",
   "metadata": {},
   "outputs": [],
   "source": []
  }
 ],
 "metadata": {
  "kernelspec": {
   "display_name": "Python 3",
   "language": "python",
   "name": "python3"
  },
  "language_info": {
   "codemirror_mode": {
    "name": "ipython",
    "version": 3
   },
   "file_extension": ".py",
   "mimetype": "text/x-python",
   "name": "python",
   "nbconvert_exporter": "python",
   "pygments_lexer": "ipython3",
   "version": "3.9.7"
  }
 },
 "nbformat": 4,
 "nbformat_minor": 5
}
