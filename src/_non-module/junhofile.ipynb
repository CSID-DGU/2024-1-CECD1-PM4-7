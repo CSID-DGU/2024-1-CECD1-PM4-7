{
 "cells": [
  {
   "metadata": {
    "ExecuteTime": {
     "end_time": "2024-07-24T07:37:12.856419Z",
     "start_time": "2024-07-24T07:37:11.664049Z"
    }
   },
   "cell_type": "code",
   "source": [
    "# 기존 데이터를 분석하는 코드\n",
    "import pandas as pd\n",
    "import os\n",
    "import matplotlib.pyplot as plt\n",
    "from matplotlib import font_manager, rc\n",
    "\n",
    "# 한글 폰트 설정\n",
    "font_path = \"C:/Windows/Fonts/malgun.ttf\"  # 폰트 경로를 시스템에 맞게 설정\n",
    "font_name = font_manager.FontProperties(fname=font_path).get_name()\n",
    "rc('font', family=font_name)\n",
    "\n",
    "# 패키지 내의 파일 경로 가져오기\n",
    "test_csv_path = os.path.join(os.getcwd(), '..', '..', 'public', 'AI_bokji_result_final.csv')\n",
    "try:\n",
    "    df = pd.read_csv(test_csv_path, encoding='euc-kr', index_col=0)\n",
    "except UnicodeError:\n",
    "    df = pd.read_csv(test_csv_path, encoding='utf-8', index_col=0)\n",
    "    \n",
    "result_csv_path = os.path.join(os.path.dirname(test_csv_path), 'AI_bokji_result_answers.csv')"
   ],
   "id": "35cb5d7175402951",
   "outputs": [],
   "execution_count": 1
  },
  {
   "metadata": {},
   "cell_type": "markdown",
   "source": "### 기존 csv파일 전처리 및 답변 분리 ###",
   "id": "edf5915269299a02"
  },
  {
   "metadata": {},
   "cell_type": "code",
   "outputs": [],
   "execution_count": null,
   "source": [
    "# STT 전처리 - 앞뒤 공백 및 줄바꿈 문자 제거\n",
    "df['STT_TRNF_RSLT_CN'] = df['STT_TRNF_RSLT_CN'].str.strip()\n",
    "\n",
    "# 1. 'VOC_SDRC_DCD' 값이 'RX'인 데이터만 추출\n",
    "df_rx = df[df['VOC_SDRC_DCD'] == 'RX'].copy()\n",
    "\n",
    "# 2. 'STT_TRNF_RSLT_CN' 값 분석 (공백 및 줄바꿈 문자 제거)\n",
    "df_rx['STT_TRNF_RSLT_CN'] = df_rx['STT_TRNF_RSLT_CN'].str.strip()\n",
    "\n",
    "# 3. 중복된 데이터의 수 계산\n",
    "stt_counts = df_rx['STT_TRNF_RSLT_CN'].value_counts().reset_index()\n",
    "stt_counts.columns = ['STT_TRNF_RSLT_CN', 'count']\n",
    "\n",
    "# 4. 개수가 1개인 데이터는 '기타' 항목으로 분류\n",
    "def categorize_stt(row):\n",
    "    if row['STT_TRNF_RSLT_CN'].startswith('눌러야') or row['STT_TRNF_RSLT_CN'].startswith('눌라야')\\\n",
    "            or row['STT_TRNF_RSLT_CN'].startswith('놀라야') or '녹음' in row['STT_TRNF_RSLT_CN']\\\n",
    "            or '번호' in row['STT_TRNF_RSLT_CN'] or '남기' in row['STT_TRNF_RSLT_CN']:\n",
    "                return '기타'\n",
    "    else:\n",
    "        return row['STT_TRNF_RSLT_CN']\n",
    "\n",
    "stt_counts['STT_TRNF_RSLT_CN'] = stt_counts.apply(categorize_stt, axis=1)\n",
    "\n",
    "# 최종 결과를 데이터프레임으로 다시 정리\n",
    "final_counts = stt_counts.groupby('STT_TRNF_RSLT_CN')['count'].sum().reset_index()\n",
    "\n",
    "# Count 기준 내림차순 정렬\n",
    "final_counts = final_counts.sort_values(by='count', ascending=False)\n",
    "\n",
    "# 시각화\n",
    "plt.figure(figsize=(10, 8))\n",
    "plt.barh(final_counts['STT_TRNF_RSLT_CN'], final_counts['count'], color='skyblue')\n",
    "plt.xlabel('Count')\n",
    "plt.ylabel('STT_TRNF_RSLT_CN')\n",
    "plt.title('STT_TRNF_RSLT_CN Count')\n",
    "plt.gca().invert_yaxis()  # y축을 뒤집어 큰 값이 위로 오도록 설정\n",
    "\n",
    "# 이미지 파일로 저장\n",
    "image_path = os.path.join(os.path.dirname(test_csv_path), 'result.png')\n",
    "plt.savefig(image_path, bbox_inches='tight')\n",
    "plt.close()\n",
    "\n",
    "# 최종 결과를 CSV 파일로 저장\n",
    "final_counts.to_csv(result_csv_path, index=False, encoding='euc-kr')\n",
    "print(\"파일이 성공적으로 저장되었습니다.\", image_path)\n"
   ],
   "id": "460c01a6ab106916"
  },
  {
   "metadata": {},
   "cell_type": "markdown",
   "source": "### 분리한 답변에서 유의미한 데이터 추출",
   "id": "e0fdcefa731ca245"
  },
  {
   "metadata": {
    "ExecuteTime": {
     "end_time": "2024-07-24T07:41:26.350426Z",
     "start_time": "2024-07-24T07:41:26.304026Z"
    }
   },
   "cell_type": "code",
   "source": [
    "final_df = pd.read_csv(result_csv_path, encoding='euc-kr')\n",
    "\n",
    "# STT_TRNF_RSLT_CN 데이터의 길이가 5 이하인 데이터 제거\n",
    "filtered_df = final_df[final_df['STT_TRNF_RSLT_CN'].str.len() > 5]\n",
    "\n",
    "# 새로운 파일로 저장\n",
    "filtered_csv_path = os.path.join(os.path.dirname(result_csv_path), 'AI_bokji_result_final_filtered.csv')\n",
    "filtered_df.to_csv(filtered_csv_path, index=False, encoding='euc-kr')\n",
    "\n",
    "# 데이터 'ㄱ'부터 시작하여 오름차순으로 정렬\n",
    "filtered_df = filtered_df.sort_values(by='STT_TRNF_RSLT_CN')\n",
    "\n",
    "print(\"파일이 성공적으로 저장되었습니다.\", filtered_csv_path)"
   ],
   "id": "5a556fcb5938297f",
   "outputs": [
    {
     "name": "stdout",
     "output_type": "stream",
     "text": [
      "파일이 성공적으로 저장되었습니다. C:\\Users\\A\\Desktop\\repo\\PM4_JS\\src\\_non-module\\..\\..\\public\\AI_bokji_result_final_filtered.csv\n"
     ]
    }
   ],
   "execution_count": 2
  },
  {
   "metadata": {},
   "cell_type": "code",
   "outputs": [],
   "execution_count": null,
   "source": "",
   "id": "e76289371744ec5b"
  }
 ],
 "metadata": {
  "kernelspec": {
   "display_name": "Python 3",
   "language": "python",
   "name": "python3"
  },
  "language_info": {
   "codemirror_mode": {
    "name": "ipython",
    "version": 2
   },
   "file_extension": ".py",
   "mimetype": "text/x-python",
   "name": "python",
   "nbconvert_exporter": "python",
   "pygments_lexer": "ipython2",
   "version": "2.7.6"
  }
 },
 "nbformat": 4,
 "nbformat_minor": 5
}
