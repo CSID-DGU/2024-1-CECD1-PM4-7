{
 "cells": [
  {
   "cell_type": "code",
   "execution_count": 1,
   "id": "35cb5d7175402951",
   "metadata": {
    "ExecuteTime": {
     "end_time": "2024-08-05T07:41:46.951888Z",
     "start_time": "2024-08-05T07:41:46.794476Z"
    }
   },
   "outputs": [
    {
     "name": "stdout",
     "output_type": "stream",
     "text": [
      "File loaded.\n"
     ]
    }
   ],
   "source": [
    "# 기존 데이터를 분석하는 코드\n",
    "import pandas as pd\n",
    "import os\n",
    "import matplotlib.pyplot as plt\n",
    "from matplotlib import font_manager, rc\n",
    "\n",
    "# 한글 폰트 설정\n",
    "font_path = \"C:/Windows/Fonts/malgun.ttf\"  # 폰트 경로를 시스템에 맞게 설정\n",
    "font_name = font_manager.FontProperties(fname=font_path).get_name()\n",
    "rc('font', family=font_name)\n",
    "\n",
    "# 패키지 내의 파일 경로 가져오기\n",
    "test_csv_path = os.path.join(os.getcwd(), '..', '..', 'public', 'AI_bokji_result_final.csv')\n",
    "try:\n",
    "    df = pd.read_csv(test_csv_path, encoding='euc-kr', index_col=0)\n",
    "except UnicodeError:\n",
    "    df = pd.read_csv(test_csv_path, encoding='utf-8', index_col=0)\n",
    "\n",
    "print(\"File loaded.\")\n",
    "result_csv_path = os.path.join(os.path.dirname(test_csv_path), 'AI_bokji_result_answers.csv')"
   ]
  },
  {
   "cell_type": "markdown",
   "id": "edf5915269299a02",
   "metadata": {},
   "source": [
    "### 기존 csv파일 전처리 및 답변 분리 ###"
   ]
  },
  {
   "cell_type": "code",
   "execution_count": null,
   "id": "460c01a6ab106916",
   "metadata": {},
   "outputs": [],
   "source": [
    "# STT 전처리 - 앞뒤 공백 및 줄바꿈 문자 제거\n",
    "df['STT_TRNF_RSLT_CN'] = df['STT_TRNF_RSLT_CN'].str.strip()\n",
    "\n",
    "# 1. 'VOC_SDRC_DCD' 값이 'RX'인 데이터만 추출\n",
    "df_rx = df[df['VOC_SDRC_DCD'] == 'RX'].copy()\n",
    "\n",
    "# 2. 'STT_TRNF_RSLT_CN' 값 분석 (공백 및 줄바꿈 문자 제거)\n",
    "df_rx['STT_TRNF_RSLT_CN'] = df_rx['STT_TRNF_RSLT_CN'].str.strip()\n",
    "\n",
    "# 3. 중복된 데이터의 수 계산\n",
    "stt_counts = df_rx['STT_TRNF_RSLT_CN'].value_counts().reset_index()\n",
    "stt_counts.columns = ['STT_TRNF_RSLT_CN', 'count']\n",
    "\n",
    "# 4. 개수가 1개인 데이터는 '기타' 항목으로 분류\n",
    "def categorize_stt(row):\n",
    "    if row['STT_TRNF_RSLT_CN'].startswith('눌러야') or row['STT_TRNF_RSLT_CN'].startswith('눌라야')\\\n",
    "            or row['STT_TRNF_RSLT_CN'].startswith('놀라야') or '녹음' in row['STT_TRNF_RSLT_CN']\\\n",
    "            or '번호' in row['STT_TRNF_RSLT_CN'] or '남기' in row['STT_TRNF_RSLT_CN']:\n",
    "                return '기타'\n",
    "    else:\n",
    "        return row['STT_TRNF_RSLT_CN']\n",
    "\n",
    "stt_counts['STT_TRNF_RSLT_CN'] = stt_counts.apply(categorize_stt, axis=1)\n",
    "\n",
    "# 최종 결과를 데이터프레임으로 다시 정리\n",
    "final_counts = stt_counts.groupby('STT_TRNF_RSLT_CN')['count'].sum().reset_index()\n",
    "\n",
    "# Count 기준 내림차순 정렬\n",
    "final_counts = final_counts.sort_values(by='count', ascending=False)\n",
    "\n",
    "# 시각화\n",
    "plt.figure(figsize=(10, 8))\n",
    "plt.barh(final_counts['STT_TRNF_RSLT_CN'], final_counts['count'], color='skyblue')\n",
    "plt.xlabel('Count')\n",
    "plt.ylabel('STT_TRNF_RSLT_CN')\n",
    "plt.title('STT_TRNF_RSLT_CN Count')\n",
    "plt.gca().invert_yaxis()  # y축을 뒤집어 큰 값이 위로 오도록 설정\n",
    "\n",
    "# 이미지 파일로 저장\n",
    "image_path = os.path.join(os.path.dirname(test_csv_path), 'result.png')\n",
    "plt.savefig(image_path, bbox_inches='tight')\n",
    "plt.close()\n",
    "\n",
    "# 최종 결과를 CSV 파일로 저장\n",
    "final_counts.to_csv(result_csv_path, index=False, encoding='euc-kr')\n",
    "print(\"파일이 성공적으로 저장되었습니다.\", image_path)\n"
   ]
  },
  {
   "cell_type": "markdown",
   "id": "e0fdcefa731ca245",
   "metadata": {},
   "source": [
    "### 분리한 답변에서 유의미한 데이터 추출"
   ]
  },
  {
   "cell_type": "code",
   "execution_count": 2,
   "id": "5a556fcb5938297f",
   "metadata": {
    "ExecuteTime": {
     "end_time": "2024-07-24T07:41:26.350426Z",
     "start_time": "2024-07-24T07:41:26.304026Z"
    }
   },
   "outputs": [
    {
     "name": "stdout",
     "output_type": "stream",
     "text": [
      "파일이 성공적으로 저장되었습니다. C:\\Users\\A\\Desktop\\repo\\PM4_JS\\src\\_non-module\\..\\..\\public\\AI_bokji_result_final_filtered.csv\n"
     ]
    }
   ],
   "source": [
    "final_df = pd.read_csv(result_csv_path, encoding='euc-kr')\n",
    "\n",
    "# STT_TRNF_RSLT_CN 데이터의 길이가 5 이하인 데이터 제거\n",
    "filtered_df = final_df[final_df['STT_TRNF_RSLT_CN'].str.len() > 5]\n",
    "\n",
    "# 새로운 파일로 저장\n",
    "filtered_csv_path = os.path.join(os.path.dirname(result_csv_path), 'AI_bokji_result_final_filtered.csv')\n",
    "filtered_df.to_csv(filtered_csv_path, index=False, encoding='euc-kr')\n",
    "\n",
    "# 데이터 'ㄱ'부터 시작하여 오름차순으로 정렬\n",
    "filtered_df = filtered_df.sort_values(by='STT_TRNF_RSLT_CN')\n",
    "\n",
    "print(\"파일이 성공적으로 저장되었습니다.\", filtered_csv_path)"
   ]
  },
  {
   "cell_type": "markdown",
   "id": "7076096ec8d88224",
   "metadata": {},
   "source": [
    "### 이전답변을 반영하여 답변 데이터만을 저장 ###"
   ]
  },
  {
   "cell_type": "code",
   "execution_count": 4,
   "id": "caf0d1f2897f1483",
   "metadata": {
    "ExecuteTime": {
     "end_time": "2024-08-05T07:39:33.242907Z",
     "start_time": "2024-08-05T07:39:33.148235Z"
    }
   },
   "outputs": [
    {
     "ename": "KeyError",
     "evalue": "1",
     "output_type": "error",
     "traceback": [
      "\u001b[1;31m---------------------------------------------------------------------------\u001b[0m",
      "\u001b[1;31mKeyError\u001b[0m                                  Traceback (most recent call last)",
      "File \u001b[1;32mc:\\Users\\A\\AppData\\Local\\Programs\\Python\\Python39\\lib\\site-packages\\pandas\\core\\indexes\\base.py:3361\u001b[0m, in \u001b[0;36mIndex.get_loc\u001b[1;34m(self, key, method, tolerance)\u001b[0m\n\u001b[0;32m   3360\u001b[0m \u001b[38;5;28;01mtry\u001b[39;00m:\n\u001b[1;32m-> 3361\u001b[0m     \u001b[38;5;28;01mreturn\u001b[39;00m \u001b[38;5;28;43mself\u001b[39;49m\u001b[38;5;241;43m.\u001b[39;49m\u001b[43m_engine\u001b[49m\u001b[38;5;241;43m.\u001b[39;49m\u001b[43mget_loc\u001b[49m\u001b[43m(\u001b[49m\u001b[43mcasted_key\u001b[49m\u001b[43m)\u001b[49m\n\u001b[0;32m   3362\u001b[0m \u001b[38;5;28;01mexcept\u001b[39;00m \u001b[38;5;167;01mKeyError\u001b[39;00m \u001b[38;5;28;01mas\u001b[39;00m err:\n",
      "File \u001b[1;32mc:\\Users\\A\\AppData\\Local\\Programs\\Python\\Python39\\lib\\site-packages\\pandas\\_libs\\index.pyx:76\u001b[0m, in \u001b[0;36mpandas._libs.index.IndexEngine.get_loc\u001b[1;34m()\u001b[0m\n",
      "File \u001b[1;32mc:\\Users\\A\\AppData\\Local\\Programs\\Python\\Python39\\lib\\site-packages\\pandas\\_libs\\index.pyx:108\u001b[0m, in \u001b[0;36mpandas._libs.index.IndexEngine.get_loc\u001b[1;34m()\u001b[0m\n",
      "File \u001b[1;32mpandas\\_libs\\hashtable_class_helper.pxi:5198\u001b[0m, in \u001b[0;36mpandas._libs.hashtable.PyObjectHashTable.get_item\u001b[1;34m()\u001b[0m\n",
      "File \u001b[1;32mpandas\\_libs\\hashtable_class_helper.pxi:5206\u001b[0m, in \u001b[0;36mpandas._libs.hashtable.PyObjectHashTable.get_item\u001b[1;34m()\u001b[0m\n",
      "\u001b[1;31mKeyError\u001b[0m: 1",
      "\nThe above exception was the direct cause of the following exception:\n",
      "\u001b[1;31mKeyError\u001b[0m                                  Traceback (most recent call last)",
      "Cell \u001b[1;32mIn[4], line 3\u001b[0m\n\u001b[0;32m      1\u001b[0m answers \u001b[38;5;241m=\u001b[39m pd\u001b[38;5;241m.\u001b[39mDataFrame(columns\u001b[38;5;241m=\u001b[39m[\u001b[38;5;124m\"\u001b[39m\u001b[38;5;124mQuestion\u001b[39m\u001b[38;5;124m\"\u001b[39m, \u001b[38;5;124m\"\u001b[39m\u001b[38;5;124mAnswer\u001b[39m\u001b[38;5;124m\"\u001b[39m])\n\u001b[0;32m      2\u001b[0m \u001b[38;5;28;01mfor\u001b[39;00m i \u001b[38;5;129;01min\u001b[39;00m \u001b[38;5;28mrange\u001b[39m(\u001b[38;5;241m1\u001b[39m, \u001b[38;5;28mlen\u001b[39m(df)):\n\u001b[1;32m----> 3\u001b[0m     current \u001b[38;5;241m=\u001b[39m \u001b[43mdf\u001b[49m\u001b[43m[\u001b[49m\u001b[43mi\u001b[49m\u001b[43m]\u001b[49m\n\u001b[0;32m      4\u001b[0m     before \u001b[38;5;241m=\u001b[39m df[i\u001b[38;5;241m-\u001b[39m\u001b[38;5;241m1\u001b[39m]\n\u001b[0;32m      5\u001b[0m     \u001b[38;5;28;01mif\u001b[39;00m current[\u001b[38;5;124m\"\u001b[39m\u001b[38;5;124mVOC_SDRC_DCD\u001b[39m\u001b[38;5;124m\"\u001b[39m] \u001b[38;5;241m==\u001b[39m \u001b[38;5;124m'\u001b[39m\u001b[38;5;124mRX\u001b[39m\u001b[38;5;124m'\u001b[39m\\\n\u001b[0;32m      6\u001b[0m         \u001b[38;5;129;01mand\u001b[39;00m before[\u001b[38;5;124m\"\u001b[39m\u001b[38;5;124mVOC_SDRC_DCD\u001b[39m\u001b[38;5;124m\"\u001b[39m] \u001b[38;5;241m==\u001b[39m \u001b[38;5;124m'\u001b[39m\u001b[38;5;124mTX\u001b[39m\u001b[38;5;124m'\u001b[39m\\\n\u001b[0;32m      7\u001b[0m         \u001b[38;5;129;01mand\u001b[39;00m \u001b[38;5;28mlen\u001b[39m(current[\u001b[38;5;124m'\u001b[39m\u001b[38;5;124mSTT_TRNF_RSLT_CN\u001b[39m\u001b[38;5;124m'\u001b[39m]) \u001b[38;5;241m>\u001b[39m\u001b[38;5;241m=\u001b[39m \u001b[38;5;241m5\u001b[39m:\n",
      "File \u001b[1;32mc:\\Users\\A\\AppData\\Local\\Programs\\Python\\Python39\\lib\\site-packages\\pandas\\core\\frame.py:3458\u001b[0m, in \u001b[0;36mDataFrame.__getitem__\u001b[1;34m(self, key)\u001b[0m\n\u001b[0;32m   3456\u001b[0m \u001b[38;5;28;01mif\u001b[39;00m \u001b[38;5;28mself\u001b[39m\u001b[38;5;241m.\u001b[39mcolumns\u001b[38;5;241m.\u001b[39mnlevels \u001b[38;5;241m>\u001b[39m \u001b[38;5;241m1\u001b[39m:\n\u001b[0;32m   3457\u001b[0m     \u001b[38;5;28;01mreturn\u001b[39;00m \u001b[38;5;28mself\u001b[39m\u001b[38;5;241m.\u001b[39m_getitem_multilevel(key)\n\u001b[1;32m-> 3458\u001b[0m indexer \u001b[38;5;241m=\u001b[39m \u001b[38;5;28;43mself\u001b[39;49m\u001b[38;5;241;43m.\u001b[39;49m\u001b[43mcolumns\u001b[49m\u001b[38;5;241;43m.\u001b[39;49m\u001b[43mget_loc\u001b[49m\u001b[43m(\u001b[49m\u001b[43mkey\u001b[49m\u001b[43m)\u001b[49m\n\u001b[0;32m   3459\u001b[0m \u001b[38;5;28;01mif\u001b[39;00m is_integer(indexer):\n\u001b[0;32m   3460\u001b[0m     indexer \u001b[38;5;241m=\u001b[39m [indexer]\n",
      "File \u001b[1;32mc:\\Users\\A\\AppData\\Local\\Programs\\Python\\Python39\\lib\\site-packages\\pandas\\core\\indexes\\base.py:3363\u001b[0m, in \u001b[0;36mIndex.get_loc\u001b[1;34m(self, key, method, tolerance)\u001b[0m\n\u001b[0;32m   3361\u001b[0m         \u001b[38;5;28;01mreturn\u001b[39;00m \u001b[38;5;28mself\u001b[39m\u001b[38;5;241m.\u001b[39m_engine\u001b[38;5;241m.\u001b[39mget_loc(casted_key)\n\u001b[0;32m   3362\u001b[0m     \u001b[38;5;28;01mexcept\u001b[39;00m \u001b[38;5;167;01mKeyError\u001b[39;00m \u001b[38;5;28;01mas\u001b[39;00m err:\n\u001b[1;32m-> 3363\u001b[0m         \u001b[38;5;28;01mraise\u001b[39;00m \u001b[38;5;167;01mKeyError\u001b[39;00m(key) \u001b[38;5;28;01mfrom\u001b[39;00m \u001b[38;5;21;01merr\u001b[39;00m\n\u001b[0;32m   3365\u001b[0m \u001b[38;5;28;01mif\u001b[39;00m is_scalar(key) \u001b[38;5;129;01mand\u001b[39;00m isna(key) \u001b[38;5;129;01mand\u001b[39;00m \u001b[38;5;129;01mnot\u001b[39;00m \u001b[38;5;28mself\u001b[39m\u001b[38;5;241m.\u001b[39mhasnans:\n\u001b[0;32m   3366\u001b[0m     \u001b[38;5;28;01mraise\u001b[39;00m \u001b[38;5;167;01mKeyError\u001b[39;00m(key)\n",
      "\u001b[1;31mKeyError\u001b[0m: 1"
     ]
    }
   ],
   "source": [
    "answers = pd.DataFrame(columns=[\"Question\", \"Answer\"])\n",
    "for i in range(1, len(df)):\n",
    "    current = df[i]\n",
    "    before = df[i-1]\n",
    "    if current[\"VOC_SDRC_DCD\"] == 'RX'\\\n",
    "        and before[\"VOC_SDRC_DCD\"] == 'TX'\\\n",
    "        and len(current['STT_TRNF_RSLT_CN']) >= 5:\n",
    "        answer = pd.DataFrame({\"Question\": before[\"STT_TRNF_RSLT_CN\"].replace(\" \", \"\"),\n",
    "                               \"Answer\": current[\"STT_TRNF_RSLT_CN\"]})\n",
    "        answers = pd.concat([answers, answer], ignore_index=True)\n",
    "\n",
    "answers.to_csv(result_csv_path, index=False, encoding='euc-kr')\n",
    "\n"
   ]
  },
  {
   "cell_type": "code",
   "execution_count": null,
   "id": "433d6d14c8d463b",
   "metadata": {},
   "outputs": [],
   "source": []
  }
 ],
 "metadata": {
  "kernelspec": {
   "display_name": "Python 3",
   "language": "python",
   "name": "python3"
  },
  "language_info": {
   "codemirror_mode": {
    "name": "ipython",
    "version": 3
   },
   "file_extension": ".py",
   "mimetype": "text/x-python",
   "name": "python",
   "nbconvert_exporter": "python",
   "pygments_lexer": "ipython3",
   "version": "3.9.7"
  }
 },
 "nbformat": 4,
 "nbformat_minor": 5
}
