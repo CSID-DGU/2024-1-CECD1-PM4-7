{
 "cells": [
  {
   "cell_type": "markdown",
   "metadata": {},
   "source": [
    "## OS: Ubuntu 22.04LTS\n",
    "## Kernel: Python (gguf)"
   ]
  },
  {
   "cell_type": "markdown",
   "metadata": {},
   "source": [
    "### Auth"
   ]
  },
  {
   "cell_type": "code",
   "execution_count": null,
   "metadata": {},
   "outputs": [],
   "source": [
    "import sys\n",
    "import os\n",
    "sys.path.append(os.path.abspath(os.path.join(os.getcwd(), \"../common\")))\n",
    "import auth_\n",
    "from google.cloud import storage\n",
    "bucket_name = \"bucket-llamamodels\"\n",
    "auth_.googleAuth(\"llama-433214-97936398ef7a.json\")\n"
   ]
  },
  {
   "cell_type": "markdown",
   "metadata": {},
   "source": [
    "---"
   ]
  },
  {
   "cell_type": "markdown",
   "metadata": {},
   "source": [
    "### Display files"
   ]
  },
  {
   "cell_type": "code",
   "execution_count": null,
   "metadata": {},
   "outputs": [],
   "source": [
    "\n",
    "client = storage.Client()\n",
    "bucket_name = \"bucket-llamamodels\"\n",
    "bucket = client.get_bucket(bucket_name)\n",
    "prefix='gguf/'\n",
    "blobs = bucket.list_blobs(prefix=prefix)\n",
    "for blob in blobs:\n",
    "    print(blob.name)\n"
   ]
  },
  {
   "cell_type": "markdown",
   "metadata": {},
   "source": [
    "---"
   ]
  },
  {
   "cell_type": "markdown",
   "metadata": {},
   "source": [
    "### Upload file"
   ]
  },
  {
   "cell_type": "code",
   "execution_count": null,
   "metadata": {},
   "outputs": [],
   "source": [
    "projectPath = os.getcwd() # src/train_llama\n",
    "\n",
    "# Edit path(source)\n",
    "folderPath = \"save\"\n",
    "filePath = \"Llama-3.1-Korean-8B-Instruct-Q8_0.gguf\"\n",
    "\n",
    "# Edit path(destination)\n",
    "prefix = \"gguf/\"\n",
    "\n",
    "sourcePath = os.path.join(projectPath, folderPath, filePath)\n",
    "destPath = prefix + filePath"
   ]
  },
  {
   "cell_type": "code",
   "execution_count": null,
   "metadata": {},
   "outputs": [],
   "source": [
    "import cloud\n",
    "\n",
    "cloud.upload_blob(bucket_name=bucket_name,\n",
    "                  source_file_name=sourcePath,\n",
    "                  destination_blob_name=destPath)"
   ]
  },
  {
   "cell_type": "markdown",
   "metadata": {},
   "source": [
    "---"
   ]
  },
  {
   "cell_type": "markdown",
   "metadata": {},
   "source": [
    "### Upload folder"
   ]
  },
  {
   "cell_type": "code",
   "execution_count": null,
   "metadata": {},
   "outputs": [],
   "source": [
    "projectPath = os.getcwd() # src/train_llama\n",
    "\n",
    "# Edit path folder(source)\n",
    "folderPath = \"save\"\n",
    "folderPath2 = \"Llama-3.1-Korean-8B-Instruct\"\n",
    "\n",
    "# Edit path(destination)\n",
    "prefix = \"gguf/\"\n",
    "\n",
    "sourcePath = os.path.join(projectPath, folderPath, folderPath2)\n",
    "destPath = prefix + folderPath2"
   ]
  },
  {
   "cell_type": "code",
   "execution_count": null,
   "metadata": {},
   "outputs": [],
   "source": [
    "import cloud\n",
    "\n",
    "cloud.upload_folder(bucket_name=bucket_name,\n",
    "                    source_folder_name=sourcePath,\n",
    "                    destination_blob_prefix=destPath)"
   ]
  },
  {
   "cell_type": "markdown",
   "metadata": {},
   "source": [
    "---"
   ]
  },
  {
   "cell_type": "markdown",
   "metadata": {},
   "source": [
    "### Download file"
   ]
  },
  {
   "cell_type": "code",
   "execution_count": null,
   "metadata": {},
   "outputs": [],
   "source": [
    "projectPath = os.getcwd() # src/train_llama\n",
    "\n",
    "# Edit path(source)\n",
    "prefix = \"gguf/\"\n",
    "\n",
    "# Edit path(destination)\n",
    "folderPath = \"backup\"\n",
    "filePath = \"Llama-3.1-Korean-8B-Instruct-Q8_0.gguf\"\n",
    "\n",
    "sourcePath = prefix + filePath\n",
    "destPath = os.path.join(projectPath, folderPath, filePath)"
   ]
  },
  {
   "cell_type": "code",
   "execution_count": null,
   "metadata": {},
   "outputs": [],
   "source": [
    "import cloud\n",
    "\n",
    "cloud.download_blob(bucket_name=bucket_name,\n",
    "                    source_blob_name=sourcePath,\n",
    "                    destination_file_name=destPath)\n"
   ]
  },
  {
   "cell_type": "markdown",
   "metadata": {},
   "source": [
    "---"
   ]
  },
  {
   "cell_type": "markdown",
   "metadata": {},
   "source": [
    "### Download folder"
   ]
  },
  {
   "cell_type": "code",
   "execution_count": null,
   "metadata": {},
   "outputs": [],
   "source": [
    "projectPath = os.getcwd() # src/train_llama\n",
    "\n",
    "# Edit path(source)\n",
    "prefix = \"gguf/\"\n",
    "\n",
    "# Edit path(destination)\n",
    "folderPath = \"backup\"\n",
    "folderPath2 = \"EXAONE-3.0-7.8B-Instruct\"\n",
    "\n",
    "sourcePath = prefix + folderPath2\n",
    "destPath = os.path.join(projectPath, folderPath, folderPath2)"
   ]
  },
  {
   "cell_type": "code",
   "execution_count": null,
   "metadata": {},
   "outputs": [],
   "source": [
    "import cloud\n",
    "\n",
    "cloud.download_folder(bucket_name=bucket_name,\n",
    "                    source_folder_name=sourcePath,\n",
    "                    destination_folder_name=destPath)\n"
   ]
  }
 ],
 "metadata": {
  "kernelspec": {
   "display_name": "gguf",
   "language": "python",
   "name": "python3"
  },
  "language_info": {
   "codemirror_mode": {
    "name": "ipython",
    "version": 3
   },
   "file_extension": ".py",
   "mimetype": "text/x-python",
   "name": "python",
   "nbconvert_exporter": "python",
   "pygments_lexer": "ipython3",
   "version": "3.10.12"
  }
 },
 "nbformat": 4,
 "nbformat_minor": 2
}
