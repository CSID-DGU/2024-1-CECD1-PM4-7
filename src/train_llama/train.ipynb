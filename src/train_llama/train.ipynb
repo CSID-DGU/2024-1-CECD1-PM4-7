{
 "cells": [
  {
   "cell_type": "markdown",
   "metadata": {},
   "source": [
    "## Llama모델 학습\n",
    "### 사용환경: Colab"
   ]
  },
  {
   "cell_type": "code",
   "execution_count": null,
   "metadata": {},
   "outputs": [],
   "source": [
    "!pip install pyfiglet\n",
    "from pyfiglet import Figlet\n",
    "f = Figlet(font='slant')\n",
    "print(f.renderText('HELLO SILVERPRIZE'))"
   ]
  },
  {
   "cell_type": "markdown",
   "metadata": {},
   "source": [
    "### 키 파일 생성"
   ]
  },
  {
   "cell_type": "code",
   "execution_count": null,
   "metadata": {},
   "outputs": [],
   "source": [
    "\n",
    "import json\n",
    "from google.colab import userdata\n",
    "\n",
    "data = {\n",
    "  \"type\": \"service_account\",\n",
    "  \"project_id\": \"llama-433214\",\n",
    "  \"private_key_id\": userdata.get(\"private_key_id\"),\n",
    "  \"private_key\": userdata.get(\"private_key\").replace(\"\\\\n\", \"\\n\"),\n",
    "  \"client_email\": \"storage-manager@llama-433214.iam.gserviceaccount.com\",\n",
    "  \"client_id\": \"112540232109707769744\",\n",
    "  \"auth_uri\": \"https://accounts.google.com/o/oauth2/auth\",\n",
    "  \"token_uri\": \"https://oauth2.googleapis.com/token\",\n",
    "  \"auth_provider_x509_cert_url\": \"https://www.googleapis.com/oauth2/v1/certs\",\n",
    "  \"client_x509_cert_url\": \"https://www.googleapis.com/robot/v1/metadata/x509/storage-manager%40llama-433214.iam.gserviceaccount.com\",\n",
    "  \"universe_domain\": \"googleapis.com\"\n",
    "}\n",
    "\n",
    "json_file_path = \"key.json\"\n",
    "with open(json_file_path, \"w\") as json_file:\n",
    "    json.dump(data, json_file)"
   ]
  },
  {
   "cell_type": "markdown",
   "metadata": {},
   "source": [
    "### Google Auth"
   ]
  },
  {
   "cell_type": "code",
   "execution_count": null,
   "metadata": {},
   "outputs": [],
   "source": [
    "import os\n",
    "os.environ[\"GOOGLE_APPLICATION_CREDENTIALS\"] = \"./key.json\""
   ]
  },
  {
   "cell_type": "markdown",
   "metadata": {},
   "source": [
    "### 모델 다운로드"
   ]
  },
  {
   "cell_type": "code",
   "execution_count": null,
   "metadata": {},
   "outputs": [],
   "source": [
    "from google.cloud import storage\n",
    "bucket_name = \"bucket-llamamodels\"\n",
    "\n",
    "# upload file\n",
    "def upload_blob(bucket_name, source_file_name, destination_blob_name):\n",
    "    storage_client = storage.Client()\n",
    "    bucket = storage_client.bucket(bucket_name)\n",
    "    blob = bucket.blob(destination_blob_name)\n",
    "    generation_match_precondition = 0\n",
    "\n",
    "    blob.upload_from_filename(source_file_name, if_generation_match=generation_match_precondition)\n",
    "\n",
    "    print(\n",
    "        f\"File {source_file_name} uploaded to {destination_blob_name}.\"\n",
    "    )\n",
    "\n",
    "# download file\n",
    "def download_blob(bucket_name, source_blob_name, destination_file_name):\n",
    "    storage_client = storage.Client()\n",
    "    bucket = storage_client.bucket(bucket_name)\n",
    "    blob = bucket.blob(source_blob_name)\n",
    "\n",
    "    os.makedirs(os.path.dirname(destination_file_name), exist_ok=True)\n",
    "\n",
    "    blob.download_to_filename(destination_file_name)\n",
    "\n",
    "    print(f\"Blob {source_blob_name} downloaded to {destination_file_name}.\")\n",
    "\n",
    "\n",
    "# downolad folder\n",
    "def download_folder(bucket_name, source_folder_name, destination_folder_name):\n",
    "    storage_client = storage.Client()\n",
    "    bucket = storage_client.bucket(bucket_name)\n",
    "\n",
    "    blobs = storage_client.list_blobs(bucket_name, prefix=source_folder_name)\n",
    "\n",
    "    for blob in blobs:\n",
    "        relative_path = os.path.relpath(blob.name, source_folder_name)\n",
    "        local_file_path = os.path.join(destination_folder_name, relative_path)\n",
    "        download_blob(bucket_name, blob.name, local_file_path)"
   ]
  },
  {
   "cell_type": "code",
   "execution_count": null,
   "metadata": {},
   "outputs": [],
   "source": [
    "# 경로 지정\n",
    "projectPath = os.getcwd() # 현재 위치, /content\n",
    "\n",
    "# 버킷 내 다운로드할 위치\n",
    "# https://console.cloud.google.com/storage/browser/bucket-llamamodels;tab=objects?forceOnBucketsSortingFiltering=true&project=llama-433214&prefix=&forceOnObjectsSortingFiltering=false\n",
    "prefix = \"gguf/\"\n",
    "\n",
    "# 다운로드할 폴더 이름\n",
    "folderPath = \"Llama-3.1-Korean-8B-Instruct/\"\n",
    "\n",
    "sourcePath = prefix + folderPath\n",
    "destPath = os.path.join(projectPath, folderPath)"
   ]
  },
  {
   "cell_type": "code",
   "execution_count": null,
   "metadata": {},
   "outputs": [],
   "source": [
    "# 다운로드\n",
    "download_folder(bucket_name=bucket_name,\n",
    "                source_folder_name=sourcePath,\n",
    "                destination_folder_name=destPath)"
   ]
  },
  {
   "cell_type": "markdown",
   "metadata": {},
   "source": [
    "---"
   ]
  },
  {
   "cell_type": "markdown",
   "metadata": {},
   "source": [
    "## 모델 학습"
   ]
  },
  {
   "cell_type": "code",
   "execution_count": null,
   "metadata": {},
   "outputs": [],
   "source": [
    "# Install Dependencies\n",
    "%cd /content/\n",
    "%rm -rf LLaMA-Factory\n",
    "!git clone https://github.com/hiyouga/LLaMA-Factory.git\n",
    "%cd LLaMA-Factory\n",
    "%ls\n",
    "!pip install -e .[torch,bitsandbytes]"
   ]
  },
  {
   "cell_type": "code",
   "execution_count": null,
   "metadata": {},
   "outputs": [],
   "source": [
    "# Check GPU\n",
    "import torch\n",
    "try:\n",
    "  assert torch.cuda.is_available() is True\n",
    "except AssertionError:\n",
    "  print(\"Please set up a GPU before using LLaMA Factory: https://medium.com/mlearning-ai/training-yolov4-on-google-colab-316f8fff99c6\")"
   ]
  },
  {
   "cell_type": "code",
   "execution_count": null,
   "metadata": {},
   "outputs": [],
   "source": [
    "# 공용 변수들\n"
   ]
  }
 ],
 "metadata": {
  "kernelspec": {
   "display_name": "Python (gguf)",
   "language": "python",
   "name": "gguf"
  },
  "language_info": {
   "codemirror_mode": {
    "name": "ipython",
    "version": 3
   },
   "file_extension": ".py",
   "mimetype": "text/x-python",
   "name": "python",
   "nbconvert_exporter": "python",
   "pygments_lexer": "ipython3",
   "version": "3.10.12"
  }
 },
 "nbformat": 4,
 "nbformat_minor": 2
}
