{
 "cells": [
  {
   "cell_type": "markdown",
   "metadata": {},
   "source": [
    "## OS: Ubuntu 22.04LTS\n",
    "## Kernel: Python (gguf)"
   ]
  },
  {
   "cell_type": "code",
   "execution_count": null,
   "metadata": {},
   "outputs": [],
   "source": [
    "# Check whether CUDA is working\n",
    "import torch\n",
    "print(torch.__version__)\n",
    "print(torch.cuda.is_available())\n"
   ]
  },
  {
   "cell_type": "markdown",
   "metadata": {},
   "source": [
    "## 모델 실행"
   ]
  },
  {
   "cell_type": "code",
   "execution_count": null,
   "metadata": {},
   "outputs": [],
   "source": [
    "# model_name = \"Llama-3.1-Korean-8B-Instruct\"\n",
    "model_name = \"EXAONE-3.0-7.8B-Instruct\"\n",
    "\n",
    "# quantize_version = \"Q8_0\"\n",
    "quantize_version = \"Q4_K_M\""
   ]
  },
  {
   "cell_type": "code",
   "execution_count": null,
   "metadata": {},
   "outputs": [],
   "source": [
    "import multiprocessing\n",
    "import time\n",
    "import os\n",
    "from llama_cpp import Llama\n",
    "\n",
    "starttime = time.time()\n",
    "model_path = os.path.abspath(f\"./save/{model_name}-{quantize_version}.gguf\")\n",
    "if not os.path.exists(model_path):\n",
    "    print(\"model not found.\")\n",
    "\n",
    "# 모델 초기화\n",
    "llm = Llama(\n",
    "  model_path=model_path,  # 모델 파일 경로\n",
    "  n_ctx=4096,  # 최대 시퀀스 길이\n",
    "  n_threads=multiprocessing.cpu_count(),\n",
    "  n_gpu_layers=-1,\n",
    "  verbose=False \n",
    ")\n",
    "\n",
    "# Chat Completion API\n",
    "response = llm.create_chat_completion(\n",
    "    messages = [\n",
    "        {\"role\": \"system\", \"content\": \"you are an helpful assistant.\"},\n",
    "        {\n",
    "            \"role\": \"user\",\n",
    "            \"content\": \"너를 만든 사람이 누구야?\"\n",
    "        }\n",
    "    ],\n",
    "    max_tokens=50,\n",
    "    temperature=0.0,\n",
    "    top_p=0\n",
    ")\n",
    "\n",
    "print(response['choices'][0]['message']['content'])\n",
    "endtime = time.time()\n",
    "print(f\"used {endtime-starttime} seconds.\")"
   ]
  },
  {
   "cell_type": "code",
   "execution_count": null,
   "metadata": {},
   "outputs": [],
   "source": []
  }
 ],
 "metadata": {
  "kernelspec": {
   "display_name": "gguf",
   "language": "python",
   "name": "python3"
  },
  "language_info": {
   "codemirror_mode": {
    "name": "ipython",
    "version": 3
   },
   "file_extension": ".py",
   "mimetype": "text/x-python",
   "name": "python",
   "nbconvert_exporter": "python",
   "pygments_lexer": "ipython3",
   "version": "3.10.12"
  }
 },
 "nbformat": 4,
 "nbformat_minor": 2
}
