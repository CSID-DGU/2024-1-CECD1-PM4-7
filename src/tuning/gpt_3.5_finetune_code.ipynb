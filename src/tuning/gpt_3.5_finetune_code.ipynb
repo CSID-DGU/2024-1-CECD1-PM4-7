{
  "cells": [
    {
      "cell_type": "markdown",
      "metadata": {
        "id": "Hnx-VPl7JWaq"
      },
      "source": [
        "엑셀 파일 -> 파인튜닝 가능 jsonl 파일로"
      ]
    },
    {
      "cell_type": "code",
      "execution_count": null,
      "metadata": {
        "id": "9fHZveVr8Og1"
      },
      "outputs": [],
      "source": [
        "import json\n",
        "\n",
        "df_conv = pd.read_excel(file_path)\n",
        "# Prepare the data for conversion to JSONL\n",
        "json_list = []\n",
        "\n",
        "for index, row in df_conv.iterrows():\n",
        "    message = {\n",
        "        \"messages\": [\n",
        "            {\"role\": \"system\", \"content\": row['System content']},\n",
        "            {\"role\": \"user\", \"content\": row['User content']},\n",
        "            {\"role\": \"assistant\", \"content\": row['Assistant content']}\n",
        "        ]\n",
        "    }\n",
        "    json_list.append(json.dumps(message, ensure_ascii=False))\n",
        "\n",
        "# Define the output file path\n",
        "output_file_path = '/mnt/data/finetune_sum.jsonl'\n",
        "\n",
        "# Save the JSONL data to a file with utf-8-sig encoding\n",
        "with open(output_file_path, 'w', encoding='utf-8-sig') as f:\n",
        "    for item in json_list:\n",
        "        f.write(item + '\\n')\n",
        "\n",
        "output_file_path"
      ]
    },
    {
      "cell_type": "code",
      "execution_count": null,
      "metadata": {
        "id": "lJhDlc6qBnjv"
      },
      "outputs": [],
      "source": [
        "messages = [\n",
        "    [{\"role\": \"user\", \"content\": question}] for question in questions\n",
        "]"
      ]
    },
    {
      "cell_type": "code",
      "execution_count": null,
      "metadata": {
        "colab": {
          "base_uri": "https://localhost:8080/"
        },
        "id": "BU8swWppDCM-",
        "outputId": "1e1c253c-c77a-4446-ebc3-127b96840fd1"
      },
      "outputs": [
        {
          "name": "stdout",
          "output_type": "stream",
          "text": [
            "[[{'role': 'user', 'content': '하는 진단을 받아 수술이 필요해요'}]]\n"
          ]
        }
      ],
      "source": [
        "print(messages)"
      ]
    },
    {
      "cell_type": "markdown",
      "metadata": {
        "id": "6Ap4_n_MCVIo"
      },
      "source": [
        "[\n",
        "      {\"role\": \"user\", \"content\": \"하는 진단을 받아 수술이 필요해요\"},\n",
        "      {\"role\": \"user\", \"content\": \"고형주가 임금을 지급하지 않아서 소송을 고려하고 있어요 \"},\n",
        "            ]"
      ]
    },
    {
      "cell_type": "code",
      "execution_count": null,
      "metadata": {
        "id": "OeYgGYWUFE5O"
      },
      "outputs": [],
      "source": [
        "# 필요한 라이브러리 임포트\n",
        "from transformers import BertModel, BertTokenizerFast\n",
        "from torch.nn.functional import cosine_similarity\n",
        "import re\n",
        "\n",
        "# 토크나이저와 모델 로딩\n",
        "tokenizer_bert = BertTokenizerFast.from_pretrained(\"kykim/bert-kor-base\")\n",
        "model_bert = BertModel.from_pretrained(\"kykim/bert-kor-base\")"
      ]
    },
    {
      "cell_type": "code",
      "execution_count": null,
      "metadata": {
        "id": "r-p_Ept7FFbE"
      },
      "outputs": [],
      "source": [
        "# SER 측정에 사용할 함수들\n",
        "def preprocess_text(text):\n",
        "    \"\"\"Remove punctuation and spaces from the text.\"\"\"\n",
        "    return re.sub(r'[,\\.\\s]', '', text)\n",
        "\n",
        "def calculate_levenshtein_distance(s1, s2):\n",
        "    \"\"\"Levenshtein distance between two strings.\"\"\"\n",
        "    if len(s1) > len(s2):\n",
        "        s1, s2 = s2, s1\n",
        "\n",
        "    distances = range(len(s1) + 1)\n",
        "    for index2, char2 in enumerate(s2):\n",
        "        new_distances = [index2 + 1]\n",
        "        for index1, char1 in enumerate(s1):\n",
        "            if char1 == char2:\n",
        "                new_distances.append(distances[index1])\n",
        "            else:\n",
        "                new_distances.append(1 + min((distances[index1], distances[index1 + 1], new_distances[-1])))\n",
        "        distances = new_distances\n",
        "    return distances[-1]\n",
        "\n",
        "def calculate_ser(original_text, corrected_text):\n",
        "    \"\"\"Calculate the Syllable Error Rate (SER) between the original and corrected texts.\"\"\"\n",
        "    # Preprocess the texts to remove punctuation and spaces\n",
        "    original_text = preprocess_text(original_text)\n",
        "    corrected_text = preprocess_text(corrected_text)\n",
        "\n",
        "    levenshtein_distance = calculate_levenshtein_distance(original_text, corrected_text)\n",
        "    total_syllables = len(original_text)\n",
        "    ser = levenshtein_distance / total_syllables\n",
        "    return ser"
      ]
    },
    {
      "cell_type": "code",
      "execution_count": null,
      "metadata": {
        "id": "tyGNHRCZFHhV"
      },
      "outputs": [],
      "source": [
        "# 처리할 문장들\n",
        "original_text = \"간염 진단을 받아 수술이 필요해요.\"\n",
        "stt_output = questions[0]\n",
        "corrected_text = response.choices[0].message.content\n",
        "\n",
        "contents = [original_text, stt_output, corrected_text]"
      ]
    },
    {
      "cell_type": "code",
      "execution_count": null,
      "metadata": {
        "colab": {
          "base_uri": "https://localhost:8080/"
        },
        "id": "VDqrgeyHGDF0",
        "outputId": "4b85cac1-e3ec-419a-b5c7-39dc2caaacaa"
      },
      "outputs": [
        {
          "name": "stdout",
          "output_type": "stream",
          "text": [
            "['간염 진단을 받아 수술이 필요해요.', '하는 진단을 받아 수술이 필요해요', '의학적 진단을 받아 수술이 필요해요.']\n"
          ]
        }
      ],
      "source": [
        "print(contents)"
      ]
    },
    {
      "cell_type": "code",
      "execution_count": null,
      "metadata": {
        "colab": {
          "base_uri": "https://localhost:8080/"
        },
        "id": "nVRd8QEUFIvx",
        "outputId": "58cf08b4-23c5-4af5-c377-5dd59c01171a"
      },
      "outputs": [
        {
          "name": "stdout",
          "output_type": "stream",
          "text": [
            "SER between Original and STT Output:\t\t 0.0\n",
            "SER between Original and Corrected Text:\t\t 0.0\n",
            "Cosine Similarity between Original and STT Output:\t 1.0000001192092896\n",
            "Cosine Similarity between Original and Corrected Text:\t 0.9314560294151306\n"
          ]
        }
      ],
      "source": [
        "# 문장들을 인코딩하고 모델을 통해 임베딩 추출\n",
        "encoded_contents = [tokenizer_bert.encode_plus(content, return_tensors='pt', max_length=512, truncation=True, padding='max_length') for content in contents]\n",
        "embeddings = [model_bert(**encoded_input).last_hidden_state[:,0,:] for encoded_input in encoded_contents]  # `CLS` 토큰의 출력을 사용\n",
        "\n",
        "# SER 유사도 계산\n",
        "ser_1_2 = calculate_ser(contents[0], contents[1])\n",
        "ser_1_3 = calculate_ser(contents[0], contents[2])\n",
        "# 코사인 유사도 계산\n",
        "similarity_1_2 = cosine_similarity(embeddings[0], embeddings[1])\n",
        "similarity_1_3 = cosine_similarity(embeddings[0], embeddings[2])\n",
        "\n",
        "# 결과 출력\n",
        "print(\"SER between Original and STT Output:\\t\\t\", ser_1_2)\n",
        "print(\"SER between Original and Corrected Text:\\t\\t\", ser_1_3)\n",
        "print(\"Cosine Similarity between Original and STT Output:\\t\", similarity_1_2.item())\n",
        "print(\"Cosine Similarity between Original and Corrected Text:\\t\", similarity_1_3.item())"
      ]
    },
    {
      "cell_type": "code",
      "execution_count": null,
      "metadata": {
        "id": "UYm7pqHARAtk"
      },
      "outputs": [],
      "source": [
        "def calculate_embeddings_and_similarities(contents):\n",
        "  # 문장들을 인코딩하고 모델을 통해 임베딩 추출\n",
        "  encoded_contents = [tokenizer_bert.encode_plus(content, return_tensors='pt', max_length=512, truncation=True, padding='max_length') for content in contents]\n",
        "  embeddings = [model_bert(**encoded_input).last_hidden_state[:,0,:] for encoded_input in encoded_contents]  # `CLS` 토큰의 출력을 사용\n",
        "\n",
        "  # SER 유사도 계산\n",
        "  ser_1_2 = calculate_ser(contents[0], contents[1])\n",
        "  ser_1_3 = calculate_ser(contents[0], contents[2])\n",
        "\n",
        "  # 코사인 유사도 계산\n",
        "  similarity_1_2 = cosine_similarity(embeddings[0], embeddings[1])\n",
        "  similarity_1_3 = cosine_similarity(embeddings[0], embeddings[2])\n",
        "\n",
        "  return ser_1_2, ser_1_3, similarity_1_2.item(), similarity_1_3.item()"
      ]
    },
    {
      "cell_type": "markdown",
      "metadata": {
        "id": "RFF8Es15Pywi"
      },
      "source": [
        "여기부터\n"
      ]
    },
    {
      "cell_type": "code",
      "execution_count": null,
      "metadata": {
        "id": "m_TAdXkQP1FU"
      },
      "outputs": [],
      "source": [
        "!pip install OpenAI"
      ]
    },
    {
      "cell_type": "code",
      "execution_count": null,
      "metadata": {
        "id": "4hMO86VWH3vw"
      },
      "outputs": [],
      "source": [
        "import pandas as pd"
      ]
    },
    {
      "cell_type": "code",
      "execution_count": null,
      "metadata": {
        "id": "3qiEGz2LIMz7"
      },
      "outputs": [],
      "source": [
        "def add_data(df, original_text, stt_output, corrected_text, ser_ori_stt, ser_ori_cor, cosine_ori_stt, cosine_ori_cor):\n",
        "    new_data = {\n",
        "        'original_text': [original_text],\n",
        "        'stt_output': [stt_output],\n",
        "        'corrected_text': [corrected_text],\n",
        "        'SER(ori, STT)': [ser_ori_stt],\n",
        "        'SER(ori, Cor)': [ser_ori_cor],\n",
        "        'Cosine(Ori, STT)': [cosine_ori_stt],\n",
        "        'Cosine(ori, Cor)': [cosine_ori_cor]\n",
        "    }\n",
        "    new_df = pd.DataFrame(new_data)\n",
        "    df = pd.concat([df, new_df], ignore_index=True)\n",
        "    return df"
      ]
    },
    {
      "cell_type": "code",
      "execution_count": null,
      "metadata": {
        "colab": {
          "base_uri": "https://localhost:8080/",
          "height": 89
        },
        "id": "sxp90B4SH17c",
        "outputId": "91ede8fa-e40b-4d0d-e169-0c86b4a0a283"
      },
      "outputs": [
        {
          "data": {
            "application/vnd.google.colaboratory.intrinsic+json": {
              "repr_error": "Out of range float values are not JSON compliant: nan",
              "type": "dataframe",
              "variable_name": "df"
            },
            "text/html": [
              "\n",
              "  <div id=\"df-9800b25b-dc2a-450b-b259-a95a4bdd8b7c\" class=\"colab-df-container\">\n",
              "    <div>\n",
              "<style scoped>\n",
              "    .dataframe tbody tr th:only-of-type {\n",
              "        vertical-align: middle;\n",
              "    }\n",
              "\n",
              "    .dataframe tbody tr th {\n",
              "        vertical-align: top;\n",
              "    }\n",
              "\n",
              "    .dataframe thead th {\n",
              "        text-align: right;\n",
              "    }\n",
              "</style>\n",
              "<table border=\"1\" class=\"dataframe\">\n",
              "  <thead>\n",
              "    <tr style=\"text-align: right;\">\n",
              "      <th></th>\n",
              "      <th>original_text</th>\n",
              "      <th>stt_output</th>\n",
              "      <th>corrected_text</th>\n",
              "      <th>SER(ori, STT)</th>\n",
              "      <th>SER(ori, Cor)</th>\n",
              "      <th>Cosine(Ori, STT)</th>\n",
              "      <th>Cosine(ori, Cor)</th>\n",
              "    </tr>\n",
              "  </thead>\n",
              "  <tbody>\n",
              "  </tbody>\n",
              "</table>\n",
              "</div>\n",
              "    <div class=\"colab-df-buttons\">\n",
              "\n",
              "  <div class=\"colab-df-container\">\n",
              "    <button class=\"colab-df-convert\" onclick=\"convertToInteractive('df-9800b25b-dc2a-450b-b259-a95a4bdd8b7c')\"\n",
              "            title=\"Convert this dataframe to an interactive table.\"\n",
              "            style=\"display:none;\">\n",
              "\n",
              "  <svg xmlns=\"http://www.w3.org/2000/svg\" height=\"24px\" viewBox=\"0 -960 960 960\">\n",
              "    <path d=\"M120-120v-720h720v720H120Zm60-500h600v-160H180v160Zm220 220h160v-160H400v160Zm0 220h160v-160H400v160ZM180-400h160v-160H180v160Zm440 0h160v-160H620v160ZM180-180h160v-160H180v160Zm440 0h160v-160H620v160Z\"/>\n",
              "  </svg>\n",
              "    </button>\n",
              "\n",
              "  <style>\n",
              "    .colab-df-container {\n",
              "      display:flex;\n",
              "      gap: 12px;\n",
              "    }\n",
              "\n",
              "    .colab-df-convert {\n",
              "      background-color: #E8F0FE;\n",
              "      border: none;\n",
              "      border-radius: 50%;\n",
              "      cursor: pointer;\n",
              "      display: none;\n",
              "      fill: #1967D2;\n",
              "      height: 32px;\n",
              "      padding: 0 0 0 0;\n",
              "      width: 32px;\n",
              "    }\n",
              "\n",
              "    .colab-df-convert:hover {\n",
              "      background-color: #E2EBFA;\n",
              "      box-shadow: 0px 1px 2px rgba(60, 64, 67, 0.3), 0px 1px 3px 1px rgba(60, 64, 67, 0.15);\n",
              "      fill: #174EA6;\n",
              "    }\n",
              "\n",
              "    .colab-df-buttons div {\n",
              "      margin-bottom: 4px;\n",
              "    }\n",
              "\n",
              "    [theme=dark] .colab-df-convert {\n",
              "      background-color: #3B4455;\n",
              "      fill: #D2E3FC;\n",
              "    }\n",
              "\n",
              "    [theme=dark] .colab-df-convert:hover {\n",
              "      background-color: #434B5C;\n",
              "      box-shadow: 0px 1px 3px 1px rgba(0, 0, 0, 0.15);\n",
              "      filter: drop-shadow(0px 1px 2px rgba(0, 0, 0, 0.3));\n",
              "      fill: #FFFFFF;\n",
              "    }\n",
              "  </style>\n",
              "\n",
              "    <script>\n",
              "      const buttonEl =\n",
              "        document.querySelector('#df-9800b25b-dc2a-450b-b259-a95a4bdd8b7c button.colab-df-convert');\n",
              "      buttonEl.style.display =\n",
              "        google.colab.kernel.accessAllowed ? 'block' : 'none';\n",
              "\n",
              "      async function convertToInteractive(key) {\n",
              "        const element = document.querySelector('#df-9800b25b-dc2a-450b-b259-a95a4bdd8b7c');\n",
              "        const dataTable =\n",
              "          await google.colab.kernel.invokeFunction('convertToInteractive',\n",
              "                                                    [key], {});\n",
              "        if (!dataTable) return;\n",
              "\n",
              "        const docLinkHtml = 'Like what you see? Visit the ' +\n",
              "          '<a target=\"_blank\" href=https://colab.research.google.com/notebooks/data_table.ipynb>data table notebook</a>'\n",
              "          + ' to learn more about interactive tables.';\n",
              "        element.innerHTML = '';\n",
              "        dataTable['output_type'] = 'display_data';\n",
              "        await google.colab.output.renderOutput(dataTable, element);\n",
              "        const docLink = document.createElement('div');\n",
              "        docLink.innerHTML = docLinkHtml;\n",
              "        element.appendChild(docLink);\n",
              "      }\n",
              "    </script>\n",
              "  </div>\n",
              "\n",
              "\n",
              "  <div id=\"id_f1503264-eaec-4a37-9e9c-4d804a2d46a8\">\n",
              "    <style>\n",
              "      .colab-df-generate {\n",
              "        background-color: #E8F0FE;\n",
              "        border: none;\n",
              "        border-radius: 50%;\n",
              "        cursor: pointer;\n",
              "        display: none;\n",
              "        fill: #1967D2;\n",
              "        height: 32px;\n",
              "        padding: 0 0 0 0;\n",
              "        width: 32px;\n",
              "      }\n",
              "\n",
              "      .colab-df-generate:hover {\n",
              "        background-color: #E2EBFA;\n",
              "        box-shadow: 0px 1px 2px rgba(60, 64, 67, 0.3), 0px 1px 3px 1px rgba(60, 64, 67, 0.15);\n",
              "        fill: #174EA6;\n",
              "      }\n",
              "\n",
              "      [theme=dark] .colab-df-generate {\n",
              "        background-color: #3B4455;\n",
              "        fill: #D2E3FC;\n",
              "      }\n",
              "\n",
              "      [theme=dark] .colab-df-generate:hover {\n",
              "        background-color: #434B5C;\n",
              "        box-shadow: 0px 1px 3px 1px rgba(0, 0, 0, 0.15);\n",
              "        filter: drop-shadow(0px 1px 2px rgba(0, 0, 0, 0.3));\n",
              "        fill: #FFFFFF;\n",
              "      }\n",
              "    </style>\n",
              "    <button class=\"colab-df-generate\" onclick=\"generateWithVariable('df')\"\n",
              "            title=\"Generate code using this dataframe.\"\n",
              "            style=\"display:none;\">\n",
              "\n",
              "  <svg xmlns=\"http://www.w3.org/2000/svg\" height=\"24px\"viewBox=\"0 0 24 24\"\n",
              "       width=\"24px\">\n",
              "    <path d=\"M7,19H8.4L18.45,9,17,7.55,7,17.6ZM5,21V16.75L18.45,3.32a2,2,0,0,1,2.83,0l1.4,1.43a1.91,1.91,0,0,1,.58,1.4,1.91,1.91,0,0,1-.58,1.4L9.25,21ZM18.45,9,17,7.55Zm-12,3A5.31,5.31,0,0,0,4.9,8.1,5.31,5.31,0,0,0,1,6.5,5.31,5.31,0,0,0,4.9,4.9,5.31,5.31,0,0,0,6.5,1,5.31,5.31,0,0,0,8.1,4.9,5.31,5.31,0,0,0,12,6.5,5.46,5.46,0,0,0,6.5,12Z\"/>\n",
              "  </svg>\n",
              "    </button>\n",
              "    <script>\n",
              "      (() => {\n",
              "      const buttonEl =\n",
              "        document.querySelector('#id_f1503264-eaec-4a37-9e9c-4d804a2d46a8 button.colab-df-generate');\n",
              "      buttonEl.style.display =\n",
              "        google.colab.kernel.accessAllowed ? 'block' : 'none';\n",
              "\n",
              "      buttonEl.onclick = () => {\n",
              "        google.colab.notebook.generateWithVariable('df');\n",
              "      }\n",
              "      })();\n",
              "    </script>\n",
              "  </div>\n",
              "\n",
              "    </div>\n",
              "  </div>\n"
            ],
            "text/plain": [
              "Empty DataFrame\n",
              "Columns: [original_text, stt_output, corrected_text, SER(ori, STT), SER(ori, Cor), Cosine(Ori, STT), Cosine(ori, Cor)]\n",
              "Index: []"
            ]
          },
          "execution_count": 172,
          "metadata": {},
          "output_type": "execute_result"
        }
      ],
      "source": [
        "df = pd.DataFrame(columns=[\n",
        "    'original_text',\n",
        "    'stt_output',\n",
        "    'corrected_text',\n",
        "    'SER(ori, STT)',\n",
        "    'SER(ori, Cor)',\n",
        "    'Cosine(Ori, STT)',\n",
        "    'Cosine(ori, Cor)'\n",
        "])\n",
        "df"
      ]
    },
    {
      "cell_type": "code",
      "execution_count": null,
      "metadata": {
        "colab": {
          "base_uri": "https://localhost:8080/"
        },
        "id": "_Go1fPwiN9Md",
        "outputId": "6e190074-3f02-4895-ed52-0e5aad4bae74"
      },
      "outputs": [
        {
          "name": "stdout",
          "output_type": "stream",
          "text": [
            "Questions: ['가족 폭력 문제로 인해 보호 명령을 받고 싶어요', '가족폭력 문제로 인해 보호 명령을 받고 싶어요', '가족폭력 문제로 인해 보호 명령을 받고 싶어요.', '가족폭력 문제로 인해 명령을 받고 싶어요 ', '간양 진단을 받아 수술이 필요해요 ', '간염 진단을 받아 수술이 필요해요', '하는 진단을 받아 수술이 필요해요', '안양 진단을 받아 수술이 필요해요', '고형주가 임금을 지급하지 않아서 소송을 고려하고 있어요 ', '고용주가 임금을 지급하지 않아서 고려하고 있어요', '고용주가 임금을 지급하지 않아서 소송을 그리하고 있어요.', '고용주가 임금을 지급하지 않아서 소송을 고려하고 있어요', '고혈압 때문에 걱정이에요', '고혈압 때문에 걱정이에요', '고혈압 때문에 걱정이에요', '고혈압 때문에 걱정이에요', '관절염 때문에 일하기가 힘들어요', '관절염 때문에 일하기가 힘들어', '관절염 때문에 일 하기가 힘들어요', '관절염 때문에 일 하기가 힘들어요', '단방비가 부담돼요', '난방비가 부담되어', '난방비가 부담되어', '난방비가 부담돼요', '남망 시설이 고장 났어요', '남방식 노래 고장 났어요', '안방 스토리 고장 났어요', '난방시설이 고장 났어요', '노숙자인데 임시 주고 지원이 필요해요', '노숙자인데 임시주거 지원이 필요해요', '노숙자인데 임시주거 지원이 필요해요', '노숙자인데 임시주거 지원이 필요해요', '가보나 가져는데 경제적 지원이 필요합니다', '다문화가정 아닌데 경제적 지원이 필요합니다', '아무나 과정인데 경제적 지원이 필요합니다.', '다문화가정인데 경제적 지원이 필요합니다', '당교 병이심해요', '당뇨병이 심해요', '당뇨병 심해요', '당뇨병 심해요', '백내장이 심해지고 있어요 ', '백내장에 심해지고 있어요', '백내장이 심해지고 있어요', '백내장에 심해지고', '범죄 피해자로서 피해 보상 청구 지원이 필요합니다', '범죄피해자로서 피해보상청구 조언이 필요합니다', '언제 피해자로서 피해보상청구 지원이 필요합니다. ', '범죄피해자로서 피해보상청구 지원이 필요한', '고기 혜택 신정 과정에서 타드를 받고 있어요', '집에 딱 신청 과정에서 차별을 받고 있어요', '복지혜택 신청 과정에서 차별을 받고 있어요.', '복지혜택 신청 과정에서 차별을 감고 있어요', '사회 복지 혜택 수급 받면 행정 절차 도움을 받아야 합니다 ', '사회복지혜택 수급 관련 행정절차 도움을 받아야 합니다', '사회복지혜택 수급 관련\\xa0행정절차\\xa0도움을\\xa0받아야\\xa0합니다.', '사회복지혜택, 수능관련 행정 절차 등을 받아야 합니다', '소득이 없어서 법률 상담을 받을 비용이 없어요', '소득이 없어서 법률 상담을 받을 비용이 없어요.', '소식이 없어서 법률 상담을 받을 비용이 없어요.', '소득이 없어요 법률 상담을 받을 비용이 없어요', '소액 대출사기 피해를 입었어요 ', '소액 대출 사기 피해를 입었어요', '소액 대출 사기 피해를 입었어요. ', '소액 대출 사기 피해를 입었어요', '책료품 지출에 지출이 많이 나가요', '식료품 제철에 지출이 많이 나가요.', '16품 17일에 쓰기 많이 나가요', '식료품 지출의 술이 많이 나와요', ' 암 진단을 받았어요    ', '암 진단 받았어요', '암진단을 받았어요', '암 진단을 받았음.', '오랜 기간 일자리 열 살지 못했어요', '오랜기간 일자리를 찾지 못 했어요', '오랜 기간 일자리를 찾지 못했어요.', '오랜기간 일자리를 찾지 못했어요', '의료 사고 및 치료비 청구 관련 법적 도움을 받아야 합니다', '의료사고 청구관련 법적 도움을 받아야 합니다.', '의료사고 및 필요해 청구관련 법적 처벌을 받아야 합니다. ', '의료 사고 및 치료비청구 관련 법적 도움을 받아야 합니다', '무료비가 너무 부담돼서 도움을 받을 수 있으면 좋겠어요', '내가 너무 부담 돼서 도움을 받을 수 있으면 좋겠어요.', '우리가 너무 부담되고 도움을 받을 수 있었으면 좋겠어요', '의료비가 너무 부담 돼서 도움을 받을 수 있으면 좋겠어요', '위명 때문에 어지러워요', '이명때문에 어지러워요', '안녕 때문에 어지러워요', '이명때문에 어지러워요', '의원의 준비 중에 법적 절사가 너무 복잡해요', '혼을 준비 중인데 법적 절차가 너무 복잡해요', '이혼을 준비 중인데 업적들 차가 너무 부탁해요', '이혼을 준비 중인데 법적 절차가 너무 복잡해요', '일상 생활을 위한 기본적인 비용이 부족해요', '일상 생활을 위한 기본적인 비용이 부족해요', '일상 생활을 위한 기본적인 비용이 부족해요', '일상생활을 위한 기본적인 비용이 부족해요', '자녀 교육비로 매달 큰 액수가 나가요', '자녀교육에 배달커넥트', '다녀 매달 큰 액수가 나가요', '자녀교육 기록 배달커넥트 가나요', '자녀 양력권 인생으로 법적 교환이 필요해요', '자녀양육권 법적 좋으니 필요해요', '자녀양육권 분쟁으로 법적 조언이 필요해요. ', '자녀 영유권 분쟁으로 법적 주원이 필요해요', '재난으로 인해 긴급 지원이 필요해요', '재난으로 이내 긴급 지원이 필요해요', '진안으로 이내 긴급 지원이 필요해요', '재난으로 이내 긴급 지원이 필요해요.', '점기가 쳐서 너무 추워', '전기가 끊겨서 너무 추워', ' 전기가 끝나서 너무 추워', '전기나 생겨서 너무 추워요', '경기세가 부담돼요', '전기세가 부담돼요', '전기세가 부담돼요', '전기세가 부담돼요', '지금차에 도로가 있어서 밤에 시끄러워 잠을 못 자', '집 근처에 도로가 있어서 다음에 시끄러워서 잠을 못 자', '집 근처에 도로가 있어서 밤에 시끄러워서 잠을 못 자', '집 근처에 도로가 있어서 밤에 시끄러워서 잠을 못 자', '건차에 살인범이 있어서부터', '집 근처에 살인범 있어서 무서워.', '집 근처에 살인범이 있어서 무서워. ', '집 근처에 살인범 있어서 그러고', '집근처에서 이상한 고약한 냄새가 나서 못 살겠다', '집 근처에서 이상한 고약한 냄새가 나서 못 살겠다', '집 근처에서 이상한 고약한 냄새가 나서 못 살겠다', '집 근처에서 이상한 고약한 냄새가 나서 못 사겠다', '집 주변에서 고약은 냄새가 나', '집 주변에서 고약한 냄새가 나', '집 주변에 고약한 냄새가 나', '집 주변에서 고약한 냄새가', ' 집천장에서 물이세요 치겠습니다', '집 천장에서 물이세요 미치겠습니다', '집 천장에서 물이세요 쉬겠습니다', '집 천장에서 물이세요 미치게', '집에 구성이가 하도 피어서 살 수가 없어요', '집에 곰팡이가 덥혀서 살 수가 없어요', '집에 곰팡이가 하도 피워서 살 수가 없어요.', '집에 곰팡이가 하도 추워서 살 수가 없어요.', '집이 무너졌어요', '집이 무너졌어', '집이 무너졌어요. ', '집이 무너졌어요', '집이 반지한데 물이 찼어 갔어', '집이 방지하는데 물이 찼어 큰일 났어요', '집이 반지 한데 물이 찼어 큰일 났어', '집이 반지 한데 물이 찼어 큰일 났어', ' 심해가 심해지고 있어요', '치맥 하고 있어요', '치매가 심해지지 있어요', '시내가 심해지고 있어요', '빨리 부러졌어요', '팔이 부러졌어요.', '팔이 부러졌어요', '팔이 부러졌어요', '태름 때문에 일상 생활이 힘들어요', '그럼 때문에 일상생활에 힘들어요', '폐렴때문에 일상생활이 힘들어요', '폐렴때문에 일상생활이 힘들어요']\n",
            "Origin: ['가족 폭력 문제로 인해 보호 명령을 받고 싶어요', '가족 폭력 문제로 인해 보호 명령을 받고 싶어요', '가족 폭력 문제로 인해 보호 명령을 받고 싶어요', '가족 폭력 문제로 인해 보호 명령을 받고 싶어요', '간염 진단을 받아 수술이 필요해요.', '간염 진단을 받아 수술이 필요해요.', '간염 진단을 받아 수술이 필요해요.', '간염 진단을 받아 수술이 필요해요.', '고용주가 임금을 지급하지 않아서 소송을 고려하고 있어요', '고용주가 임금을 지급하지 않아서 소송을 고려하고 있어요', '고용주가 임금을 지급하지 않아서 소송을 고려하고 있어요', '고용주가 임금을 지급하지 않아서 소송을 고려하고 있어요', '고혈압 때문에 걱정이에요.', '고혈압 때문에 걱정이에요.', '고혈압 때문에 걱정이에요.', '고혈압 때문에 걱정이에요.', '관절염 때문에 일하기가 힘들어요.', '관절염 때문에 일하기가 힘들어요.', '관절염 때문에 일하기가 힘들어요.', '관절염 때문에 일하기가 힘들어요.', '난방비가 부담되요.', '난방비가 부담되요.', '난방비가 부담되요.', '난방비가 부담되요.', '난방시설이 고장났어요', '난방시설이 고장났어요', '난방시설이 고장났어요', '난방시설이 고장났어요', '노숙자인데 임시 주거 지원이 필요해요', '노숙자인데 임시 주거 지원이 필요해요', '노숙자인데 임시 주거 지원이 필요해요', '노숙자인데 임시 주거 지원이 필요해요', '다문화 가정인데 경제적 지원이 필요합니다.', '다문화 가정인데 경제적 지원이 필요합니다.', '다문화 가정인데 경제적 지원이 필요합니다.', '다문화 가정인데 경제적 지원이 필요합니다.', '당뇨병이 심해요.', '당뇨병이 심해요.', '당뇨병이 심해요.', '당뇨병이 심해요.', '백내장이 심해지고 있어요.', '백내장이 심해지고 있어요.', '백내장이 심해지고 있어요.', '백내장이 심해지고 있어요.', '범죄 피해자로서 피해 보상 청구 지원이 필요합니다', '범죄 피해자로서 피해 보상 청구 지원이 필요합니다', '범죄 피해자로서 피해 보상 청구 지원이 필요합니다', '범죄 피해자로서 피해 보상 청구 지원이 필요합니다', '복지 혜택 신청 과정에서 차별을 겪고 있어요', '복지 혜택 신청 과정에서 차별을 겪고 있어요', '복지 혜택 신청 과정에서 차별을 겪고 있어요', '복지 혜택 신청 과정에서 차별을 겪고 있어요', '사회복지 혜택 수급 관련 행정 절차 도움을 받아야 합니다', '사회복지 혜택 수급 관련 행정 절차 도움을 받아야 합니다', '사회복지 혜택 수급 관련 행정 절차 도움을 받아야 합니다', '사회복지 혜택 수급 관련 행정 절차 도움을 받아야 합니다', '소득이 없어서 법률 상담을 받을 비용이 없어요', '소득이 없어서 법률 상담을 받을 비용이 없어요', '소득이 없어서 법률 상담을 받을 비용이 없어요', '소득이 없어서 법률 상담을 받을 비용이 없어요', '소액 대출 사기 피해를 입었어요', '소액 대출 사기 피해를 입었어요', '소액 대출 사기 피해를 입었어요', '소액 대출 사기 피해를 입었어요', '식료품 지출에 지출이 많이 나가요.', '식료품 지출에 지출이 많이 나가요.', '식료품 지출에 지출이 많이 나가요.', '식료품 지출에 지출이 많이 나가요.', '암 진단을 받았어요.', '암 진단을 받았어요.', '암 진단을 받았어요.', '암 진단을 받았어요.', '오랜 기간 일자리를 찾지 못했어요.', '오랜 기간 일자리를 찾지 못했어요.', '오랜 기간 일자리를 찾지 못했어요.', '오랜 기간 일자리를 찾지 못했어요.', '의료 사고 및 치료비 청구 관련 법적 도움을 받아야 합니다', '의료 사고 및 치료비 청구 관련 법적 도움을 받아야 합니다', '의료 사고 및 치료비 청구 관련 법적 도움을 받아야 합니다', '의료 사고 및 치료비 청구 관련 법적 도움을 받아야 합니다', '의료비가 너무 부담되서 도움을 받을 수 있으면 좋겠어요.', '의료비가 너무 부담되서 도움을 받을 수 있으면 좋겠어요.', '의료비가 너무 부담되서 도움을 받을 수 있으면 좋겠어요.', '의료비가 너무 부담되서 도움을 받을 수 있으면 좋겠어요.', '이명 때문에 어지러워요.', '이명 때문에 어지러워요.', '이명 때문에 어지러워요.', '이명 때문에 어지러워요.', '이혼을 준비 중인데 법적 절차가 너무 복잡해요', '이혼을 준비 중인데 법적 절차가 너무 복잡해요', '이혼을 준비 중인데 법적 절차가 너무 복잡해요', '이혼을 준비 중인데 법적 절차가 너무 복잡해요', '일상 생활을 위한 기본적인 비용이 부족해요.', '일상 생활을 위한 기본적인 비용이 부족해요.', '일상 생활을 위한 기본적인 비용이 부족해요.', '일상 생활을 위한 기본적인 비용이 부족해요.', '자녀 교육비로 매달 큰 액수가 나가요.', '자녀 교육비로 매달 큰 액수가 나가요.', '자녀 교육비로 매달 큰 액수가 나가요.', '자녀 교육비로 매달 큰 액수가 나가요.', '자녀 양육권 분쟁으로 법적 조언이 필요해요', '자녀 양육권 분쟁으로 법적 조언이 필요해요', '자녀 양육권 분쟁으로 법적 조언이 필요해요', '자녀 양육권 분쟁으로 법적 조언이 필요해요', '재난으로 인해 긴급 지원이 필요해요.', '재난으로 인해 긴급 지원이 필요해요.', '재난으로 인해 긴급 지원이 필요해요.', '재난으로 인해 긴급 지원이 필요해요.', '전기가 끊겨서 너무 추워.', '전기가 끊겨서 너무 추워.', '전기가 끊겨서 너무 추워.', '전기가 끊겨서 너무 추워.', '전기세가 부담되요.', '전기세가 부담되요.', '전기세가 부담되요.', '전기세가 부담되요.', '집 근처에 도로가 있어서 밤에 시끄러워서 잠을 못 자.', '집 근처에 도로가 있어서 밤에 시끄러워서 잠을 못 자.', '집 근처에 도로가 있어서 밤에 시끄러워서 잠을 못 자.', '집 근처에 도로가 있어서 밤에 시끄러워서 잠을 못 자.', '집 근처에 살인범이 있어서 무서워.', '집 근처에 살인범이 있어서 무서워.', '집 근처에 살인범이 있어서 무서워.', '집 근처에 살인범이 있어서 무서워.', '집 근처에서 이상한 고약한 냄새가 나서 못 살겠다.', '집 근처에서 이상한 고약한 냄새가 나서 못 살겠다.', '집 근처에서 이상한 고약한 냄새가 나서 못 살겠다.', '집 근처에서 이상한 고약한 냄새가 나서 못 살겠다.', '집 주변에서 고약한 냄새가 남', '집 주변에서 고약한 냄새가 남', '집 주변에서 고약한 냄새가 남', '집 주변에서 고약한 냄새가 남', '집 천장에서 물이 새요. 미치겠습니다.', '집 천장에서 물이 새요. 미치겠습니다.', '집 천장에서 물이 새요. 미치겠습니다.', '집 천장에서 물이 새요. 미치겠습니다.', '집에 곰팡이가 하도 피어서 살 수가 없어요.', '집에 곰팡이가 하도 피어서 살 수가 없어요.', '집에 곰팡이가 하도 피어서 살 수가 없어요.', '집에 곰팡이가 하도 피어서 살 수가 없어요.', '집이 무너졌어요', '집이 무너졌어요', '집이 무너졌어요', '집이 무너졌어요', '집이 반지한데, 물이 찼어. 큰일 났어.', '집이 반지한데, 물이 찼어. 큰일 났어.', '집이 반지한데, 물이 찼어. 큰일 났어.', '집이 반지한데, 물이 찼어. 큰일 났어.', '치매가 심해지고 있어요.', '치매가 심해지고 있어요.', '치매가 심해지고 있어요.', '치매가 심해지고 있어요.', '팔이 부러졌어요.', '팔이 부러졌어요.', '팔이 부러졌어요.', '팔이 부러졌어요.', '폐렴때문에 일상생활이 힘들어요.', '폐렴때문에 일상생활이 힘들어요.', '폐렴때문에 일상생활이 힘들어요.', '폐렴때문에 일상생활이 힘들어요.']\n"
          ]
        }
      ],
      "source": [
        "import pandas as pd\n",
        "\n",
        "# 엑셀 파일 경로\n",
        "file_path = '/content/test_data.xlsx'\n",
        "\n",
        "# 엑셀 파일을 읽어 데이터프레임으로 구성\n",
        "df_data = pd.read_excel(file_path)\n",
        "\n",
        "# 'user_content'와 'assistant_content' 컬럼의 데이터를 각각 리스트로 저장\n",
        "questions = df_data['User content'].tolist()\n",
        "origins = df_data['Assistant content'].tolist()\n",
        "\n",
        "# 결과 출력\n",
        "print(\"Questions:\", questions)\n",
        "print(\"Origin:\", origins)"
      ]
    },
    {
      "cell_type": "code",
      "execution_count": null,
      "metadata": {
        "id": "yE1n77BPNttu"
      },
      "outputs": [],
      "source": [
        "messages = [\n",
        "    [{\"role\": \"user\", \"content\": question}] for question in questions\n",
        "]"
      ]
    },
    {
      "cell_type": "code",
      "execution_count": null,
      "metadata": {
        "id": "tFXW1VQEPo6G"
      },
      "outputs": [],
      "source": [
        "from openai import OpenAI\n",
        "key = \"\" # API KEY"
      ]
    },
    {
      "cell_type": "code",
      "execution_count": null,
      "metadata": {
        "colab": {
          "base_uri": "https://localhost:8080/"
        },
        "id": "QUw-aBsVIdjo",
        "outputId": "29743af2-8729-4fda-ce95-3585a751951c"
      },
      "outputs": [
        {
          "name": "stdout",
          "output_type": "stream",
          "text": [
            "Dataframe saved to 'output.xlsx'\n"
          ]
        }
      ],
      "source": [
        "for message, origin, question in zip(messages, origins, questions):\n",
        "  response = client.chat.completions.create(\n",
        "  model=\"ft:gpt-3.5-turbo-1106:personal::9EdV2QBZ\",\n",
        "  messages= message,\n",
        "  temperature=1,\n",
        "  max_tokens=50,\n",
        "  top_p=1,\n",
        "  frequency_penalty=0,\n",
        "  presence_penalty=0,\n",
        "  stop=[\"\\n\\n\"]\n",
        ")\n",
        "  original_text = origin\n",
        "  stt_output = question\n",
        "  corrected_text = response.choices[0].message.content\n",
        "  contents = [original_text, stt_output, corrected_text]\n",
        "\n",
        "  # 문장들을 인코딩하고 모델을 통해 임베딩 추출\n",
        "  encoded_contents = [tokenizer_bert.encode_plus(content, return_tensors='pt', max_length=512, truncation=True, padding='max_length') for content in contents]\n",
        "  embeddings = [model_bert(**encoded_input).last_hidden_state[:,0,:] for encoded_input in encoded_contents]  # `CLS` 토큰의 출력을 사용\n",
        "\n",
        "  # SER 유사도 계산\n",
        "  ser_1_2 = calculate_ser(contents[0], contents[1])\n",
        "  ser_1_3 = calculate_ser(contents[0], contents[2])\n",
        "  # 코사인 유사도 계산\n",
        "  similarity_1_2 = cosine_similarity(embeddings[0], embeddings[1])\n",
        "  similarity_1_3 = cosine_similarity(embeddings[0], embeddings[2])\n",
        "\n",
        "  df = add_data(df, original_text, stt_output, corrected_text, ser_1_2, ser_1_3, similarity_1_2.item(), similarity_1_3.item())\n",
        "\n",
        "df.to_excel('output.xlsx', index=False)\n",
        "print(\"Dataframe saved to 'output.xlsx'\")"
      ]
    },
    {
      "cell_type": "code",
      "execution_count": null,
      "metadata": {
        "colab": {
          "base_uri": "https://localhost:8080/",
          "height": 441
        },
        "id": "C-3UOmdnZoEo",
        "outputId": "d8e00255-3a33-4825-cd05-a6e76152e1d2"
      },
      "outputs": [
        {
          "data": {
            "image/png": "[encoded data removed]",
            "text/plain": [
              "<Figure size 1400x700 with 2 Axes>"
            ]
          },
          "metadata": {},
          "output_type": "display_data"
        }
      ],
      "source": [
        "import pandas as pd\n",
        "import matplotlib.pyplot as plt\n",
        "\n",
        "# 엑셀 파일 경로\n",
        "file_path = '/content/output_5_16.xlsx'\n",
        "\n",
        "# 엑셀 파일을 읽어 데이터프레임으로 구성\n",
        "df = pd.read_excel(file_path)\n",
        "\n",
        "# 점 그래프 그리기\n",
        "plt.figure(figsize=(14, 7))\n",
        "\n",
        "# SER 점 그래프\n",
        "plt.subplot(1, 2, 1)\n",
        "plt.scatter(df.index, df['SER(ori, STT)'], label='SER(ori, STT)', color='blue')\n",
        "plt.scatter(df.index, df['SER(ori, Cor)'], label='SER(ori, Cor)', color='green')\n",
        "plt.xlabel('Index')\n",
        "plt.ylabel('SER Value')\n",
        "plt.title('SER Comparison')\n",
        "plt.legend()\n",
        "\n",
        "# Cosine 유사도 점 그래프\n",
        "plt.subplot(1, 2, 2)\n",
        "plt.scatter(df.index, df['Cosine(Ori, STT)'], label='Cosine(Ori, STT)', color='blue')\n",
        "plt.scatter(df.index, df['Cosine(ori, Cor)'], label='Cosine(ori, Cor)', color='green')\n",
        "plt.xlabel('Index')\n",
        "plt.ylabel('Cosine Similarity')\n",
        "plt.title('Cosine Similarity Comparison')\n",
        "plt.legend()\n",
        "\n",
        "# 그래프 출력\n",
        "plt.tight_layout()\n",
        "plt.show()\n"
      ]
    }
  ],
  "metadata": {
    "colab": {
      "provenance": []
    },
    "kernelspec": {
      "display_name": "Python 3",
      "name": "python3"
    },
    "language_info": {
      "name": "python"
    }
  },
  "nbformat": 4,
  "nbformat_minor": 0
}
