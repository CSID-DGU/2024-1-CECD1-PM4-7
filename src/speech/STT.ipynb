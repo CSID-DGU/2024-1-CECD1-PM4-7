{
 "cells": [
  {
   "cell_type": "code",
   "execution_count": 1,
   "metadata": {},
   "outputs": [],
   "source": [
    "# API 키 임포트\n",
    "import os\n",
    "\n",
    "current_dir = os.getcwd()\n",
    "key_path = os.path.join(current_dir, '..', '..', 'key', \"vocal-entity-420406-b9648ba69fca.json\")\n",
    "key_path = os.path.abspath(key_path)\n",
    "# 서비스 계정 키 파일의 경로를 환경 변수로 설정\n",
    "os.environ[\"GOOGLE_APPLICATION_CREDENTIALS\"] = key_path\n"
   ]
  },
  {
   "cell_type": "code",
   "execution_count": 2,
   "metadata": {},
   "outputs": [],
   "source": [
    "# 함수 정의\n",
    "import io\n",
    "import tkinter as tk\n",
    "from tkinter import filedialog\n",
    "from pydub import AudioSegment\n",
    "from google.cloud import speech_v1p1beta1 as speech\n",
    "from gtts import gTTS\n",
    "import ffmpeg\n",
    "\n",
    "def transcribe_audio(file_path):\n",
    "    client = speech.SpeechClient()\n",
    "    \n",
    "    with io.open(file_path, \"rb\") as audio_file:\n",
    "        content = audio_file.read()\n",
    "    \n",
    "    audio = speech.RecognitionAudio(content=content)\n",
    "    config = speech.RecognitionConfig(\n",
    "        encoding=speech.RecognitionConfig.AudioEncoding.LINEAR16,\n",
    "        sample_rate_hertz=16000,\n",
    "        language_code=\"ko-KR\",\n",
    "    )\n",
    "    \n",
    "    response = client.recognize(config=config, audio=audio)\n",
    "    \n",
    "    transcripts = [result.alternatives[0].transcript for result in response.results]\n",
    "    return transcripts\n",
    "\n",
    "def open_file_dialog():\n",
    "    root = tk.Tk()\n",
    "    root.withdraw()\n",
    "    file_path = filedialog.askopenfilename()\n",
    "    return file_path\n",
    "\n",
    "def create_test_audio(text, file_path):\n",
    "    tts = gTTS(text=text, lang='ko')\n",
    "    tts.save(file_path)\n"
   ]
  },
  {
   "cell_type": "code",
   "execution_count": 3,
   "metadata": {},
   "outputs": [
    {
     "name": "stdout",
     "output_type": "stream",
     "text": [
      "C:/Users/A/Desktop/repo/PM4_JS/public/test_audio.wav\n"
     ]
    }
   ],
   "source": [
    "# STT\n",
    "file_path = open_file_dialog()\n",
    "if file_path:\n",
    "    print(file_path[:-3]+\"wav\")\n",
    "    ffmpeg.input(file_path).output(file_path[:-3]+\"wav\").run()\n",
    "    print(\"wav파일로 변환 완료.\")\n",
    "    result = transcribe_audio(file_path)\n",
    "    \n",
    "    print(result)\n"
   ]
  }
 ],
 "metadata": {
  "kernelspec": {
   "display_name": "Python 3",
   "language": "python",
   "name": "python3"
  },
  "language_info": {
   "codemirror_mode": {
    "name": "ipython",
    "version": 3
   },
   "file_extension": ".py",
   "mimetype": "text/x-python",
   "name": "python",
   "nbconvert_exporter": "python",
   "pygments_lexer": "ipython3",
   "version": "3.9.7"
  }
 },
 "nbformat": 4,
 "nbformat_minor": 2
}
